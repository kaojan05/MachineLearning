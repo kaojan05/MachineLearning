{
  "nbformat": 4,
  "nbformat_minor": 0,
  "metadata": {
    "colab": {
      "provenance": [],
      "authorship_tag": "ABX9TyNqy6qIqdnRPCNF2uqPwuPl",
      "include_colab_link": true
    },
    "kernelspec": {
      "name": "python3",
      "display_name": "Python 3"
    },
    "language_info": {
      "name": "python"
    }
  },
  "cells": [
    {
      "cell_type": "markdown",
      "metadata": {
        "id": "view-in-github",
        "colab_type": "text"
      },
      "source": [
        "<a href=\"https://colab.research.google.com/github/kaojan05/MachineLearning/blob/main/%E9%9A%A8%E6%A9%9F%E6%A3%AE%E6%9E%97-iris.ipynb\" target=\"_parent\"><img src=\"https://colab.research.google.com/assets/colab-badge.svg\" alt=\"Open In Colab\"/></a>"
      ]
    },
    {
      "cell_type": "code",
      "execution_count": 88,
      "metadata": {
        "colab": {
          "base_uri": "https://localhost:8080/"
        },
        "id": "Xb2CdlTMmM_m",
        "outputId": "dfa44c24-0b87-4a5a-b2c2-d73898855779"
      },
      "outputs": [
        {
          "output_type": "stream",
          "name": "stdout",
          "text": [
            "訓練資料正確率: 1.0\n",
            "測試資料正確率: 0.9777777777777777\n",
            "標準答案: [0 0 1 0 1 2 2 2 0 0 1 2 0 0 0 1 1 2 0 0 0 2 1 1 1 2 1 1 1 1 2 1 0 1 0 1 0\n",
            " 2 1 2 0 2 0 2 0]\n",
            "預測答案: [0 0 1 0 1 2 2 2 0 0 1 2 0 0 0 1 1 2 0 0 0 2 2 1 1 2 1 1 1 1 2 1 0 1 0 1 0\n",
            " 2 1 2 0 2 0 2 0]\n"
          ]
        }
      ],
      "source": [
        "from sklearn.datasets import load_iris\n",
        "from sklearn.model_selection import train_test_split\n",
        "from sklearn.ensemble import RandomForestClassifier\n",
        "\n",
        "iris=load_iris()\n",
        "iris_data=iris.data\n",
        "iris_label=iris.target\n",
        "\n",
        "train_data, test_data, train_label, test_label = train_test_split(iris_data, iris_label, test_size = 0.3)\n",
        "clf = RandomForestClassifier(n_estimators=30, max_depth=4)\n",
        "clf.fit(train_data, train_label)\n",
        "print(\"訓練資料正確率:\",clf.score(train_data,train_label)) # 訓練資料正確率\n",
        "print(\"測試資料正確率:\",clf.score(test_data, test_label)) # 測試資料正確率\n",
        "\n",
        "predict=clf.predict(test_data) # 預測\n",
        "print(\"標準答案:\",test_label) # 標準答案\n",
        "print(\"預測答案:\",predict) # 預測答案"
      ]
    }
  ]
}
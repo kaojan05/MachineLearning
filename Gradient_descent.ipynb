{
  "nbformat": 4,
  "nbformat_minor": 0,
  "metadata": {
    "colab": {
      "provenance": [],
      "authorship_tag": "ABX9TyOsY4r/dWIKvwcD1DSje1+K",
      "include_colab_link": true
    },
    "kernelspec": {
      "name": "python3",
      "display_name": "Python 3"
    },
    "language_info": {
      "name": "python"
    }
  },
  "cells": [
    {
      "cell_type": "markdown",
      "metadata": {
        "id": "view-in-github",
        "colab_type": "text"
      },
      "source": [
        "<a href=\"https://colab.research.google.com/github/kaojan05/MachineLearning/blob/main/Gradient_descent.ipynb\" target=\"_parent\"><img src=\"https://colab.research.google.com/assets/colab-badge.svg\" alt=\"Open In Colab\"/></a>"
      ]
    },
    {
      "cell_type": "code",
      "execution_count": 13,
      "metadata": {
        "id": "2G8pLa9h4Vds"
      },
      "outputs": [],
      "source": [
        "import numpy as np\n",
        "import matplotlib.pyplot as plt\n",
        "\n",
        "def func(x): return np.square(x)\n",
        "\n",
        "def dfunc(x): return 2 * x\n",
        "\n",
        "def GD(x_start, df, epochs, lr):\n",
        "  \"\"\"  梯度下降法。給定起始點與目標函數的一階導函數，求在epochs次反覆運算中x的更新值\n",
        "        :param x_start: x的起始點\n",
        "        :param df: 目標函數的一階導函數\n",
        "        :param epochs: 反覆運算週期\n",
        "        :param lr: 學習率\n",
        "        :return: x在每次反覆運算後的位置（包括起始點），長度為epochs+1\n",
        "     \"\"\"\n",
        "  xs = np.zeros(epochs+1)\n",
        "  x = x_start\n",
        "  xs[0] = x\n",
        "  for i in range(epochs):\n",
        "        dx = df(x)\n",
        "        v = - dx * lr\n",
        "        x += v\n",
        "        xs[i+1] = x\n",
        "  return xs\n",
        "\n",
        "  x_start = 5\n",
        "  epochs = 15\n",
        "  lr = 0.3\n",
        "  x = GD(x_start, dfunc, epochs, lr=lr)\n",
        "  print (x)\n",
        "\n",
        "  color = 'r'\n",
        "  from numpy import arange\n",
        "  t = arange(-6.0, 6.0, 0.01)\n",
        "  plt.plot(t, func(t), c='b')\n",
        "  plt.plot(x, func(x), c=color, label='lr={}'.format(lr))\n",
        "  plt.scatter(x, func(x), c=color, )\n",
        "  plt.legend()\n",
        "\n",
        "  plt.show()"
      ]
    }
  ]
}